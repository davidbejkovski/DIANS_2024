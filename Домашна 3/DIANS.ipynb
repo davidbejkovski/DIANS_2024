{
  "cells": [
    {
      "cell_type": "code",
      "source": [
        "!pip install ta"
      ],
      "metadata": {
        "colab": {
          "base_uri": "https://localhost:8080/"
        },
        "id": "bKGUHJHuNpzV",
        "outputId": "f735e502-1aa4-48a8-fe8f-e22abc94ee66"
      },
      "execution_count": 1,
      "outputs": [
        {
          "output_type": "stream",
          "name": "stdout",
          "text": [
            "Collecting ta\n",
            "  Downloading ta-0.11.0.tar.gz (25 kB)\n",
            "  Preparing metadata (setup.py) ... \u001b[?25l\u001b[?25hdone\n",
            "Requirement already satisfied: numpy in /usr/local/lib/python3.10/dist-packages (from ta) (1.26.4)\n",
            "Requirement already satisfied: pandas in /usr/local/lib/python3.10/dist-packages (from ta) (2.2.2)\n",
            "Requirement already satisfied: python-dateutil>=2.8.2 in /usr/local/lib/python3.10/dist-packages (from pandas->ta) (2.8.2)\n",
            "Requirement already satisfied: pytz>=2020.1 in /usr/local/lib/python3.10/dist-packages (from pandas->ta) (2024.2)\n",
            "Requirement already satisfied: tzdata>=2022.7 in /usr/local/lib/python3.10/dist-packages (from pandas->ta) (2024.2)\n",
            "Requirement already satisfied: six>=1.5 in /usr/local/lib/python3.10/dist-packages (from python-dateutil>=2.8.2->pandas->ta) (1.17.0)\n",
            "Building wheels for collected packages: ta\n",
            "  Building wheel for ta (setup.py) ... \u001b[?25l\u001b[?25hdone\n",
            "  Created wheel for ta: filename=ta-0.11.0-py3-none-any.whl size=29412 sha256=8a9f2a41b96c9513510e2c94e2d7afe4997c54817c6be471959096c5368af4ea\n",
            "  Stored in directory: /root/.cache/pip/wheels/5f/67/4f/8a9f252836e053e532c6587a3230bc72a4deb16b03a829610b\n",
            "Successfully built ta\n",
            "Installing collected packages: ta\n",
            "Successfully installed ta-0.11.0\n"
          ]
        }
      ]
    },
    {
      "cell_type": "code",
      "execution_count": 46,
      "metadata": {
        "id": "HqY5PKgZSTGs"
      },
      "outputs": [],
      "source": [
        "import numpy as np\n",
        "import pandas as pd\n",
        "import requests\n",
        "from bs4 import BeautifulSoup\n",
        "from IPython.display import HTML\n",
        "import os\n",
        "from datetime import datetime, timedelta\n",
        "from concurrent.futures import ThreadPoolExecutor\n",
        "import os\n",
        "import matplotlib.pyplot as plt\n",
        "from ta.trend import SMAIndicator, EMAIndicator\n",
        "from ta.momentum import RSIIndicator\n",
        "from ta.momentum import StochasticOscillator\n",
        "from ta.trend import MACD\n",
        "from ta.volatility import BollingerBands\n",
        "import glob\n",
        "from joblib import Parallel, delayed"
      ]
    },
    {
      "cell_type": "code",
      "execution_count": 2,
      "metadata": {
        "colab": {
          "base_uri": "https://localhost:8080/"
        },
        "id": "tmv39I5GC9U0",
        "outputId": "8180afa0-c9b9-4da2-9d11-98ed6df079bc"
      },
      "outputs": [
        {
          "output_type": "stream",
          "name": "stdout",
          "text": [
            "Collecting selenium\n",
            "  Downloading selenium-4.27.1-py3-none-any.whl.metadata (7.1 kB)\n",
            "Requirement already satisfied: urllib3<3,>=1.26 in /usr/local/lib/python3.10/dist-packages (from urllib3[socks]<3,>=1.26->selenium) (2.2.3)\n",
            "Collecting trio~=0.17 (from selenium)\n",
            "  Downloading trio-0.28.0-py3-none-any.whl.metadata (8.5 kB)\n",
            "Collecting trio-websocket~=0.9 (from selenium)\n",
            "  Downloading trio_websocket-0.11.1-py3-none-any.whl.metadata (4.7 kB)\n",
            "Requirement already satisfied: certifi>=2021.10.8 in /usr/local/lib/python3.10/dist-packages (from selenium) (2024.12.14)\n",
            "Requirement already satisfied: typing_extensions~=4.9 in /usr/local/lib/python3.10/dist-packages (from selenium) (4.12.2)\n",
            "Requirement already satisfied: websocket-client~=1.8 in /usr/local/lib/python3.10/dist-packages (from selenium) (1.8.0)\n",
            "Requirement already satisfied: attrs>=23.2.0 in /usr/local/lib/python3.10/dist-packages (from trio~=0.17->selenium) (24.3.0)\n",
            "Collecting sortedcontainers (from trio~=0.17->selenium)\n",
            "  Downloading sortedcontainers-2.4.0-py2.py3-none-any.whl.metadata (10 kB)\n",
            "Requirement already satisfied: idna in /usr/local/lib/python3.10/dist-packages (from trio~=0.17->selenium) (3.10)\n",
            "Collecting outcome (from trio~=0.17->selenium)\n",
            "  Downloading outcome-1.3.0.post0-py2.py3-none-any.whl.metadata (2.6 kB)\n",
            "Requirement already satisfied: sniffio>=1.3.0 in /usr/local/lib/python3.10/dist-packages (from trio~=0.17->selenium) (1.3.1)\n",
            "Requirement already satisfied: exceptiongroup in /usr/local/lib/python3.10/dist-packages (from trio~=0.17->selenium) (1.2.2)\n",
            "Collecting wsproto>=0.14 (from trio-websocket~=0.9->selenium)\n",
            "  Downloading wsproto-1.2.0-py3-none-any.whl.metadata (5.6 kB)\n",
            "Requirement already satisfied: pysocks!=1.5.7,<2.0,>=1.5.6 in /usr/local/lib/python3.10/dist-packages (from urllib3[socks]<3,>=1.26->selenium) (1.7.1)\n",
            "Requirement already satisfied: h11<1,>=0.9.0 in /usr/local/lib/python3.10/dist-packages (from wsproto>=0.14->trio-websocket~=0.9->selenium) (0.14.0)\n",
            "Downloading selenium-4.27.1-py3-none-any.whl (9.7 MB)\n",
            "\u001b[2K   \u001b[90m━━━━━━━━━━━━━━━━━━━━━━━━━━━━━━━━━━━━━━━━\u001b[0m \u001b[32m9.7/9.7 MB\u001b[0m \u001b[31m61.6 MB/s\u001b[0m eta \u001b[36m0:00:00\u001b[0m\n",
            "\u001b[?25hDownloading trio-0.28.0-py3-none-any.whl (486 kB)\n",
            "\u001b[2K   \u001b[90m━━━━━━━━━━━━━━━━━━━━━━━━━━━━━━━━━━━━━━━━\u001b[0m \u001b[32m486.3/486.3 kB\u001b[0m \u001b[31m31.4 MB/s\u001b[0m eta \u001b[36m0:00:00\u001b[0m\n",
            "\u001b[?25hDownloading trio_websocket-0.11.1-py3-none-any.whl (17 kB)\n",
            "Downloading wsproto-1.2.0-py3-none-any.whl (24 kB)\n",
            "Downloading outcome-1.3.0.post0-py2.py3-none-any.whl (10 kB)\n",
            "Downloading sortedcontainers-2.4.0-py2.py3-none-any.whl (29 kB)\n",
            "Installing collected packages: sortedcontainers, wsproto, outcome, trio, trio-websocket, selenium\n",
            "Successfully installed outcome-1.3.0.post0 selenium-4.27.1 sortedcontainers-2.4.0 trio-0.28.0 trio-websocket-0.11.1 wsproto-1.2.0\n"
          ]
        }
      ],
      "source": [
        "!pip install selenium"
      ]
    },
    {
      "cell_type": "code",
      "execution_count": 3,
      "metadata": {
        "id": "-78Hkpo3DFTB"
      },
      "outputs": [],
      "source": [
        "from selenium import webdriver\n",
        "from selenium.webdriver.common.by import By\n",
        "from selenium.webdriver.support.ui import WebDriverWait\n",
        "from selenium.webdriver.support import expected_conditions as EC\n",
        "import time\n",
        "from selenium.webdriver.common.action_chains import ActionChains\n",
        "from datetime import date"
      ]
    },
    {
      "cell_type": "code",
      "execution_count": 15,
      "metadata": {
        "id": "SQ4Bmf7TXjAh"
      },
      "outputs": [],
      "source": [
        "requests.packages.urllib3.disable_warnings()\n",
        "import warnings\n",
        "warnings.filterwarnings('ignore')"
      ]
    },
    {
      "cell_type": "code",
      "execution_count": 31,
      "metadata": {
        "id": "QAAIl9RjXm7A"
      },
      "outputs": [],
      "source": [
        "url=\"https://www.mse.mk/mk/issuers/free-market\"\n",
        "base_url=\"https://www.mse.mk\"\n",
        "answer = requests.get(url)"
      ]
    },
    {
      "cell_type": "code",
      "execution_count": 32,
      "metadata": {
        "id": "GYMGCdAMZu13"
      },
      "outputs": [],
      "source": [
        "from selenium.webdriver.support.ui import Select"
      ]
    },
    {
      "cell_type": "code",
      "execution_count": 40,
      "metadata": {
        "id": "W0TWPlz6MacN"
      },
      "outputs": [],
      "source": [
        "def Filter2(url):\n",
        "  request = requests.get(url)\n",
        "  text=request.text\n",
        "  soup=BeautifulSoup(text,'html.parser')\n",
        "  body = soup.select('.col-md-12 a')\n",
        "  links = [a['href'] for a in body if a.has_attr('href')]\n",
        "  return links[0]"
      ]
    },
    {
      "cell_type": "code",
      "execution_count": 41,
      "metadata": {
        "id": "20iUC_KFWSUd"
      },
      "outputs": [],
      "source": [
        "def get_last_date_csv(csv_file):\n",
        "    filename = f'{csv_file}.csv'\n",
        "    if os.path.exists(filename):\n",
        "        df = pd.read_csv('/content/'+filename)\n",
        "        if not df.empty:\n",
        "            df['Датум'] = pd.to_datetime(df['Датум'], errors='coerce')\n",
        "            last_date = df['Датум'].max()\n",
        "            if pd.notna(last_date):\n",
        "                return last_date.strftime(\"%d.%m.%Y\")\n",
        "        else:\n",
        "            return None\n",
        "    else:\n",
        "        columns = ['Датум', 'Цена на последна трансакција', 'Мак.', 'Мин.', 'Просечна цена', '%пром.', 'Количина', 'Промет во БЕСТ во денари', 'Вкупен промет во денари']\n",
        "        df = pd.DataFrame(columns=columns)\n",
        "        df.to_csv(filename, index=False)"
      ]
    },
    {
      "cell_type": "code",
      "execution_count": 42,
      "metadata": {
        "id": "bE-tAdgkbGMu"
      },
      "outputs": [],
      "source": [
        "def get_data(csv_file, url, start_date, end_date):\n",
        "    options = webdriver.ChromeOptions()\n",
        "    options.add_argument('--headless')\n",
        "    options.add_argument('--no-sandbox')\n",
        "    options.add_argument('--disable-dev-shm-usage')\n",
        "\n",
        "    driver = webdriver.Chrome(options=options)\n",
        "    driver.get(url)\n",
        "    data = []\n",
        "    start_date_picker=driver.find_element(By.ID,'FromDate')\n",
        "    start_date_picker.clear()\n",
        "    start_date_picker.send_keys(start_date)\n",
        "    end_date_picker=driver.find_element(By.ID,'ToDate')\n",
        "    end_date_picker.clear()\n",
        "    end_date_picker.send_keys(end_date)\n",
        "    button=driver.find_element(By.CLASS_NAME,'btn-primary-sm')\n",
        "    driver.execute_script('arguments[0].scrollIntoView();',button)\n",
        "    button.click()\n",
        "    time.sleep(1)\n",
        "    request = driver.page_source\n",
        "    soup = BeautifulSoup(request, 'html.parser')\n",
        "    body = soup.select('tbody tr')\n",
        "    for b in body:\n",
        "      cols = b.find_all('td')\n",
        "      if len(cols) >= 9:\n",
        "          data.append({\n",
        "                    \"Датум\": cols[0].text.strip(),\n",
        "                    \"Цена на последна трансакција\": cols[1].text.strip(),\n",
        "                    \"Мак.\": cols[2].text.strip(),\n",
        "                    \"Мин.\": cols[3].text.strip(),\n",
        "                    \"Просечна цена\": cols[4].text.strip(),\n",
        "                    \"%пром.\": cols[5].text.strip(),\n",
        "                    \"Количина\": cols[6].text.strip(),\n",
        "                    \"Промет во БЕСТ во денари\": cols[7].text.strip()+',00',\n",
        "                    \"Вкупен промет во денари\": cols[8].text.strip()+',00'\n",
        "                })\n",
        "    driver.quit()\n",
        "\n",
        "    return data"
      ]
    },
    {
      "cell_type": "code",
      "source": [
        "def process_firm(link):\n",
        "    name = Filter2(base_url + link)\n",
        "    if '#' in name:\n",
        "        return\n",
        "    parts = name.split('/')\n",
        "    name = parts[4]\n",
        "    data = []\n",
        "\n",
        "    if get_last_date_csv(name) is None:\n",
        "        start_date = datetime(2014, 1, 1).strftime('%d.%m.%Y')\n",
        "        end_date = datetime(2014, 12, 31).strftime('%d.%m.%Y')\n",
        "        data += get_data(name, base_url + Filter2(base_url + link), start_date, end_date)\n",
        "    else:\n",
        "        start_date = get_last_date_csv(name)\n",
        "        year_start = start_date.split('.')\n",
        "        today = str(date.today())\n",
        "        year_end = today.split('-')\n",
        "        end_year = int(year_end[0])\n",
        "        start_year = int(year_start[2])\n",
        "\n",
        "        for year in range(start_year, end_year + 1):\n",
        "            if year == end_year:\n",
        "                end_month = int(year_end[1])\n",
        "                end_day = int(year_end[2])\n",
        "                end_date = datetime(year, end_month, end_day).strftime('%d.%m.%Y')\n",
        "            else:\n",
        "                end_date = datetime(year, 12, 31).strftime('%d.%m.%Y')\n",
        "            start_date = datetime(year, 1, 1).strftime('%d.%m.%Y')\n",
        "            data += get_data(name, base_url + Filter2(base_url + link), start_date, end_date)\n",
        "\n",
        "    df = pd.DataFrame(data)\n",
        "    df.to_csv(f'/content/{name}.csv')"
      ],
      "metadata": {
        "id": "EnyKXLw_rX9a"
      },
      "execution_count": 43,
      "outputs": []
    },
    {
      "cell_type": "code",
      "source": [
        "def main():\n",
        "    text = answer.text\n",
        "    soup = BeautifulSoup(text, 'html.parser')\n",
        "    body = soup.select(\"tbody tr a\")\n",
        "    links = [a['href'] for a in body if a.has_attr('href')]\n",
        "    Parallel(n_jobs=8)(delayed(process_firm)(link) for link in links)"
      ],
      "metadata": {
        "id": "7LTlcR9brfFS"
      },
      "execution_count": 47,
      "outputs": []
    },
    {
      "cell_type": "code",
      "source": [
        "if __name__ == \"__main__\":\n",
        "    main()"
      ],
      "metadata": {
        "id": "3caLDfV6riwa"
      },
      "execution_count": null,
      "outputs": []
    },
    {
      "cell_type": "markdown",
      "metadata": {
        "id": "pKsD5Vyre8Ai"
      },
      "source": []
    },
    {
      "cell_type": "code",
      "execution_count": 24,
      "metadata": {
        "id": "tF1BMqCvaT6B"
      },
      "outputs": [],
      "source": [
        "from pickle import NONE\n",
        "def load_data(file_path):\n",
        "    df = pd.read_csv(file_path)\n",
        "    df['Датум'] = pd.to_datetime(df['Датум'], format='%d.%m.%Y')\n",
        "    df.sort_values('Датум', inplace=True)\n",
        "    if 'Цена на последна трансакција' not in df.columns or df['Цена на последна трансакција'].isna().all():\n",
        "        return None\n",
        "    df['Цена'] = df['Цена на последна трансакција'].str.replace(',', '').astype(float)\n",
        "    return df"
      ]
    },
    {
      "cell_type": "code",
      "source": [
        "def resample_data(df, interval):\n",
        "    df = df.set_index('Датум').resample(interval).last()\n",
        "    df['Цена'] = df['Цена'].interpolate()\n",
        "    return df.reset_index()"
      ],
      "metadata": {
        "id": "egGMnMwB_5I8"
      },
      "execution_count": 25,
      "outputs": []
    },
    {
      "cell_type": "code",
      "source": [
        "def calculate_oscillators(df):\n",
        "    oscillators = []\n",
        "\n",
        "    # Calculate RSI\n",
        "    rsi = RSIIndicator(df['Цена'], window=14).rsi()\n",
        "    rsi_decision = np.where(rsi < 30, 'Buy', np.where(rsi > 70, 'Sell', 'Hold'))\n",
        "    oscillators.append((\"RSI\", rsi, rsi_decision))\n",
        "\n",
        "    # Calculate Stochastic Oscillator\n",
        "    stoch = StochasticOscillator(df['Цена'], df['Цена'], df['Цена'], window=14).stoch()\n",
        "    stoch_decision = np.where(stoch < 20, 'Buy', np.where(stoch > 80, 'Sell', 'Hold'))\n",
        "    oscillators.append((\"Stochastic\", stoch, stoch_decision))\n",
        "\n",
        "    # Calculate MACD\n",
        "    macd = MACD(df['Цена']).macd()\n",
        "    macd_decision = np.where(macd > 0, 'Buy', 'Sell')\n",
        "    oscillators.append((\"MACD\", macd, macd_decision))\n",
        "\n",
        "    # Calculate Bollinger Bands High\n",
        "    bollinger_high = BollingerBands(df['Цена']).bollinger_hband()\n",
        "    bollinger_high_decision = np.where((bollinger_high.notna()) & (df['Цена'] > bollinger_high), 'Sell', 'Hold')\n",
        "    oscillators.append((\"Bollinger High\", bollinger_high, bollinger_high_decision))\n",
        "\n",
        "    # Calculate Bollinger Bands Low\n",
        "    bollinger_low = BollingerBands(df['Цена']).bollinger_lband()\n",
        "    bollinger_low_decision = np.where((bollinger_low.notna()) & (df['Цена'] < bollinger_low), 'Buy', 'Hold')\n",
        "    oscillators.append((\"Bollinger Low\", bollinger_low, bollinger_low_decision))\n",
        "\n",
        "    return oscillators"
      ],
      "metadata": {
        "id": "0FoRAJILH7Ss"
      },
      "execution_count": 26,
      "outputs": []
    },
    {
      "cell_type": "code",
      "source": [
        "def calculate_moving_averages(df):\n",
        "    mas = []\n",
        "\n",
        "    # Calculate SMA 20\n",
        "    sma_20 = SMAIndicator(df['Цена'], window=20).sma_indicator()\n",
        "    sma_20_decision = np.where(sma_20.notna() & (df['Цена'] > sma_20), 'Buy', 'Sell')\n",
        "    mas.append((\"SMA_20\", sma_20, sma_20_decision))\n",
        "\n",
        "    # Calculate SMA 50\n",
        "    sma_50 = SMAIndicator(df['Цена'], window=50).sma_indicator()\n",
        "    sma_50_decision = np.where(sma_50.notna() & (df['Цена'] > sma_50), 'Buy', 'Sell')\n",
        "    mas.append((\"SMA_50\", sma_50, sma_50_decision))\n",
        "\n",
        "    # Calculate EMA 20\n",
        "    ema_20 = EMAIndicator(df['Цена'], window=20).ema_indicator()\n",
        "    ema_20_decision = np.where(ema_20.notna() & (df['Цена'] > ema_20), 'Buy', 'Sell')\n",
        "    mas.append((\"EMA_20\", ema_20, ema_20_decision))\n",
        "\n",
        "    # Calculate EMA 50\n",
        "    ema_50 = EMAIndicator(df['Цена'], window=50).ema_indicator()\n",
        "    ema_50_decision = np.where(ema_50.notna() & (df['Цена'] > ema_50), 'Buy', 'Sell')\n",
        "    mas.append((\"EMA_50\", ema_50, ema_50_decision))\n",
        "\n",
        "    # Calculate EMA 200\n",
        "    ema_200 = EMAIndicator(df['Цена'], window=200).ema_indicator()\n",
        "    ema_200_decision = np.where(ema_200.notna() & (df['Цена'] > ema_200), 'Buy', 'Sell')\n",
        "    mas.append((\"EMA_200\", ema_200, ema_200_decision))\n",
        "\n",
        "    return mas"
      ],
      "metadata": {
        "id": "WoGf17knIfnM"
      },
      "execution_count": 28,
      "outputs": []
    },
    {
      "cell_type": "code",
      "source": [
        "def generate_dataframe(data_list):\n",
        "    names, values, decisions = [], [], []\n",
        "    for name, value_series, decision_series in data_list:\n",
        "        if len(value_series.dropna()) == 0 or len(decision_series) == 0:\n",
        "            continue\n",
        "        names.append(name)\n",
        "        values.append(value_series.dropna().iloc[-1])  # Safely get the last value\n",
        "        decisions.append(decision_series[-1])  # Safely get the last decision\n",
        "\n",
        "    result = pd.DataFrame({\n",
        "        'Name': names,\n",
        "        'Value': values,\n",
        "        'Decision': decisions\n",
        "    })\n",
        "    return result"
      ],
      "metadata": {
        "id": "PGQPpIljIjns"
      },
      "execution_count": 27,
      "outputs": []
    },
    {
      "cell_type": "code",
      "source": [
        "def process_firm_data(file_path, interval):\n",
        "    df = load_data(file_path)\n",
        "    if df is None:\n",
        "        return None, None\n",
        "    # Resample data for the interval\n",
        "    df = resample_data(df, interval)\n",
        "\n",
        "    # Calculate oscillators and MAs\n",
        "    oscillators = calculate_oscillators(df)\n",
        "    mas = calculate_moving_averages(df)\n",
        "\n",
        "    # Generate final dataframes\n",
        "    osc_df = generate_dataframe(oscillators)\n",
        "    ma_df = generate_dataframe(mas)\n",
        "\n",
        "    return osc_df, ma_df"
      ],
      "metadata": {
        "id": "UA_FHkfPJaXc"
      },
      "execution_count": 29,
      "outputs": []
    },
    {
      "cell_type": "code",
      "source": [
        "folder_path = '/content'\n",
        "file_paths = os.listdir(folder_path)\n",
        "intervals = {'1D': 'daily', '1W': 'weekly', '1M': 'monthly'}\n",
        "\n",
        "for file_name in file_paths:\n",
        "    if not file_name.endswith('.csv'):\n",
        "        continue\n",
        "    full_path = os.path.join(folder_path, file_name)\n",
        "    df = pd.read_csv(full_path)\n",
        "    if df.empty:\n",
        "        continue\n",
        "    for interval, interval_name in intervals.items():\n",
        "        osc_df, ma_df = process_firm_data(full_path, interval)\n",
        "        if osc_df is None or ma_df is None:\n",
        "            continue\n",
        "        osc_df.to_csv(f\"/content/oscillators_{interval_name}_{file_name}\", index=False)\n",
        "        ma_df.to_csv(f\"/content/moving_averages_{interval_name}_{file_name}\", index=False)"
      ],
      "metadata": {
        "id": "vZtajLOHUx36"
      },
      "execution_count": 30,
      "outputs": []
    }
  ],
  "metadata": {
    "colab": {
      "provenance": []
    },
    "kernelspec": {
      "display_name": "Python 3",
      "name": "python3"
    },
    "language_info": {
      "name": "python"
    }
  },
  "nbformat": 4,
  "nbformat_minor": 0
}