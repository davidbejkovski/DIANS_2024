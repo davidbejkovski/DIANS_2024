{
  "nbformat": 4,
  "nbformat_minor": 0,
  "metadata": {
    "colab": {
      "provenance": [],
      "include_colab_link": true
    },
    "kernelspec": {
      "name": "python3",
      "display_name": "Python 3"
    },
    "language_info": {
      "name": "python"
    }
  },
  "cells": [
    {
      "cell_type": "markdown",
      "metadata": {
        "id": "view-in-github",
        "colab_type": "text"
      },
      "source": [
        "<a href=\"https://colab.research.google.com/github/davidbejkovski/DIANS_2024/blob/master/%D0%94%D0%BE%D0%BC%D0%B0%D1%88%D0%BD%D0%B0%201/Untitled3.ipynb\" target=\"_parent\"><img src=\"https://colab.research.google.com/assets/colab-badge.svg\" alt=\"Open In Colab\"/></a>"
      ]
    },
    {
      "cell_type": "code",
      "execution_count": 22,
      "metadata": {
        "id": "HqY5PKgZSTGs"
      },
      "outputs": [],
      "source": [
        "import numpy as np\n",
        "import pandas as pd\n",
        "import requests\n",
        "from bs4 import BeautifulSoup\n",
        "from IPython.display import HTML\n",
        "import os\n",
        "from datetime import datetime, timedelta"
      ]
    },
    {
      "cell_type": "code",
      "source": [
        "!pip install selenium"
      ],
      "metadata": {
        "colab": {
          "base_uri": "https://localhost:8080/"
        },
        "id": "tmv39I5GC9U0",
        "outputId": "9ab03d9c-4277-4ca4-d679-57bd5dbed77c"
      },
      "execution_count": 23,
      "outputs": [
        {
          "output_type": "stream",
          "name": "stdout",
          "text": [
            "Requirement already satisfied: selenium in /usr/local/lib/python3.10/dist-packages (4.26.1)\n",
            "Requirement already satisfied: urllib3<3,>=1.26 in /usr/local/lib/python3.10/dist-packages (from urllib3[socks]<3,>=1.26->selenium) (2.2.3)\n",
            "Requirement already satisfied: trio~=0.17 in /usr/local/lib/python3.10/dist-packages (from selenium) (0.27.0)\n",
            "Requirement already satisfied: trio-websocket~=0.9 in /usr/local/lib/python3.10/dist-packages (from selenium) (0.11.1)\n",
            "Requirement already satisfied: certifi>=2021.10.8 in /usr/local/lib/python3.10/dist-packages (from selenium) (2024.8.30)\n",
            "Requirement already satisfied: typing_extensions~=4.9 in /usr/local/lib/python3.10/dist-packages (from selenium) (4.12.2)\n",
            "Requirement already satisfied: websocket-client~=1.8 in /usr/local/lib/python3.10/dist-packages (from selenium) (1.8.0)\n",
            "Requirement already satisfied: attrs>=23.2.0 in /usr/local/lib/python3.10/dist-packages (from trio~=0.17->selenium) (24.2.0)\n",
            "Requirement already satisfied: sortedcontainers in /usr/local/lib/python3.10/dist-packages (from trio~=0.17->selenium) (2.4.0)\n",
            "Requirement already satisfied: idna in /usr/local/lib/python3.10/dist-packages (from trio~=0.17->selenium) (3.10)\n",
            "Requirement already satisfied: outcome in /usr/local/lib/python3.10/dist-packages (from trio~=0.17->selenium) (1.3.0.post0)\n",
            "Requirement already satisfied: sniffio>=1.3.0 in /usr/local/lib/python3.10/dist-packages (from trio~=0.17->selenium) (1.3.1)\n",
            "Requirement already satisfied: exceptiongroup in /usr/local/lib/python3.10/dist-packages (from trio~=0.17->selenium) (1.2.2)\n",
            "Requirement already satisfied: wsproto>=0.14 in /usr/local/lib/python3.10/dist-packages (from trio-websocket~=0.9->selenium) (1.2.0)\n",
            "Requirement already satisfied: pysocks!=1.5.7,<2.0,>=1.5.6 in /usr/local/lib/python3.10/dist-packages (from urllib3[socks]<3,>=1.26->selenium) (1.7.1)\n",
            "Requirement already satisfied: h11<1,>=0.9.0 in /usr/local/lib/python3.10/dist-packages (from wsproto>=0.14->trio-websocket~=0.9->selenium) (0.14.0)\n"
          ]
        }
      ]
    },
    {
      "cell_type": "code",
      "source": [
        "from selenium import webdriver\n",
        "from selenium.webdriver.common.by import By\n",
        "from selenium.webdriver.support.ui import WebDriverWait\n",
        "from selenium.webdriver.support import expected_conditions as EC\n",
        "import time\n",
        "from selenium.webdriver.common.action_chains import ActionChains\n",
        "from datetime import date"
      ],
      "metadata": {
        "id": "-78Hkpo3DFTB"
      },
      "execution_count": 24,
      "outputs": []
    },
    {
      "cell_type": "code",
      "source": [
        "requests.packages.urllib3.disable_warnings()\n",
        "import warnings\n",
        "warnings.filterwarnings('ignore')"
      ],
      "metadata": {
        "id": "SQ4Bmf7TXjAh"
      },
      "execution_count": 25,
      "outputs": []
    },
    {
      "cell_type": "code",
      "source": [
        "url=\"https://www.mse.mk/mk/issuers/free-market\"\n",
        "base_url=\"https://www.mse.mk\"\n",
        "answer = requests.get(url)"
      ],
      "metadata": {
        "id": "QAAIl9RjXm7A"
      },
      "execution_count": 26,
      "outputs": []
    },
    {
      "cell_type": "code",
      "source": [
        "from selenium.webdriver.support.ui import Select"
      ],
      "metadata": {
        "id": "GYMGCdAMZu13"
      },
      "execution_count": 27,
      "outputs": []
    },
    {
      "cell_type": "code",
      "source": [
        "def Filter2(url):\n",
        "  request = requests.get(url)\n",
        "  text=request.text\n",
        "  soup=BeautifulSoup(text,'html.parser')\n",
        "  body = soup.select('.col-md-12 a')\n",
        "  links = [a['href'] for a in body if a.has_attr('href')]\n",
        "  return links[0]"
      ],
      "metadata": {
        "id": "W0TWPlz6MacN"
      },
      "execution_count": 28,
      "outputs": []
    },
    {
      "cell_type": "code",
      "source": [
        "def get_last_date_csv(csv_file):\n",
        "    filename = f'{csv_file}.csv'\n",
        "    if os.path.exists(filename):\n",
        "        df = pd.read_csv('/content/'+filename)\n",
        "        if not df.empty:\n",
        "            df['Датум'] = pd.to_datetime(df['Датум'], errors='coerce')\n",
        "            last_date = df['Датум'].max()\n",
        "            if pd.notna(last_date):\n",
        "                return last_date.strftime(\"%d.%m.%Y\")\n",
        "        else:\n",
        "            return None\n",
        "    else:\n",
        "        columns = ['Датум', 'Цена на последна трансакција', 'Мак.', 'Мин.', 'Просечна цена', '%пром.', 'Количина', 'Промет во БЕСТ во денари', 'Вкупен промет во денари']\n",
        "        df = pd.DataFrame(columns=columns)\n",
        "        df.to_csv(filename, index=False)"
      ],
      "metadata": {
        "id": "20iUC_KFWSUd"
      },
      "execution_count": 29,
      "outputs": []
    },
    {
      "cell_type": "code",
      "source": [
        "def get_data(csv_file, url, start_date, end_date):\n",
        "    options = webdriver.ChromeOptions()\n",
        "    options.add_argument('--headless')\n",
        "    options.add_argument('--no-sandbox')\n",
        "    options.add_argument('--disable-dev-shm-usage')\n",
        "\n",
        "    driver = webdriver.Chrome(options=options)\n",
        "    driver.get(url)\n",
        "    data = []\n",
        "    start_date_picker=driver.find_element(By.ID,'FromDate')\n",
        "    start_date_picker.clear()\n",
        "    start_date_picker.send_keys(start_date)\n",
        "    end_date_picker=driver.find_element(By.ID,'ToDate')\n",
        "    end_date_picker.clear()\n",
        "    end_date_picker.send_keys(end_date)\n",
        "    button=driver.find_element(By.CLASS_NAME,'btn-primary-sm')\n",
        "    driver.execute_script('arguments[0].scrollIntoView();',button)\n",
        "    button.click()\n",
        "    time.sleep(1)\n",
        "    request = driver.page_source\n",
        "    soup = BeautifulSoup(request, 'html.parser')\n",
        "    body = soup.select('tbody tr')\n",
        "    for b in body:\n",
        "      cols = b.find_all('td')\n",
        "      if len(cols) >= 9:\n",
        "          data.append({\n",
        "                    \"Датум\": cols[0].text.strip(),\n",
        "                    \"Цена на последна трансакција\": cols[1].text.strip(),\n",
        "                    \"Мак.\": cols[2].text.strip(),\n",
        "                    \"Мин.\": cols[3].text.strip(),\n",
        "                    \"Просечна цена\": cols[4].text.strip(),\n",
        "                    \"%пром.\": cols[5].text.strip(),\n",
        "                    \"Количина\": cols[6].text.strip(),\n",
        "                    \"Промет во БЕСТ во денари\": cols[7].text.strip()+',00',\n",
        "                    \"Вкупен промет во денари\": cols[8].text.strip()+',00'\n",
        "                })\n",
        "    driver.quit()\n",
        "\n",
        "    return data"
      ],
      "metadata": {
        "id": "bE-tAdgkbGMu"
      },
      "execution_count": 30,
      "outputs": []
    },
    {
      "cell_type": "code",
      "source": [
        "text=answer.text\n",
        "soup=BeautifulSoup(text,'html.parser')\n",
        "body=soup.select(\"tbody tr a\")\n",
        "links = [a['href'] for a in body if a.has_attr('href')]\n",
        "for i in range(0,len(links)):\n",
        "  if i == 50:\n",
        "    continue\n",
        "  name=Filter2(base_url+links[i])\n",
        "  parts = name.split('/')\n",
        "  name = parts[4]\n",
        "  data = []\n",
        "  if get_last_date_csv(name) is None:\n",
        "      start_date=datetime(2014, 1, 1).strftime('%d.%m.%Y')\n",
        "      end_date=datetime(2014,12,31).strftime('%d.%m.%Y')\n",
        "      data+=get_data(name, base_url + Filter2(base_url + links[i]), start_date, end_date)\n",
        "  else:\n",
        "      start_date = get_last_date_csv(name)\n",
        "      year_start = start_date.split('.')\n",
        "      today = str(date.today())\n",
        "      year_end = today.split('-')\n",
        "      end_year = int(year_end[0])\n",
        "      start_year = int(year_start[2])\n",
        "\n",
        "      for year in range(start_year, end_year + 1):\n",
        "          if year == end_year:\n",
        "              end_month = int(year_end[1])\n",
        "              end_day = int(year_end[2])\n",
        "              end_date = datetime(year, end_month, end_day).strftime('%d.%m.%Y')\n",
        "          else:\n",
        "              end_date = datetime(year, 12, 31).strftime('%d.%m.%Y')\n",
        "          start_date = datetime(year, 1, 1).strftime('%d.%m.%Y')\n",
        "          data += get_data(name, base_url + Filter2(base_url + links[i]), start_date, end_date)\n",
        "  df = pd.DataFrame(data)\n",
        "  df.to_csv('/content/' + name + '.csv')\n",
        "\n"
      ],
      "metadata": {
        "id": "M5HcgXCZXugw"
      },
      "execution_count": null,
      "outputs": []
    },
    {
      "cell_type": "markdown",
      "source": [
        "[link text](https://)"
      ],
      "metadata": {
        "id": "pKsD5Vyre8Ai"
      }
    },
    {
      "cell_type": "code",
      "source": [],
      "metadata": {
        "id": "tF1BMqCvaT6B"
      },
      "execution_count": null,
      "outputs": []
    }
  ]
}